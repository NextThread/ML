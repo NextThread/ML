{
 "cells": [
  {
   "cell_type": "code",
   "execution_count": null,
   "metadata": {},
   "outputs": [],
   "source": [
    "# importing all the required modules\n",
    "import pandas as pd \n",
    "import numpy as np \n",
    "import matplotlib.pyplot as plt \n",
    "import tensorflow as tf \n",
    "\n",
    "from keras.preprocessing.text import Tokenizer\n",
    "# from tensorflow.keras.preprocessing import pad_sequences\n",
    "'''\n",
    "   Latest tensorflow gives error, so replace upper line by lower one\n",
    "'''\n",
    "from tensorflow.keras.preprocessing.sequence import pad_sequences\n"
   ]
  },
  {
   "cell_type": "code",
   "execution_count": null,
   "metadata": {},
   "outputs": [],
   "source": [
    "#---Hyperparameters---#\n",
    "VOCAB_SIZE = 30000\n",
    "EMBEDDING_DIM = 16\n",
    "EPOCHS = 15\n",
    "MAX_LEN = 32\n",
    "TRUNC_TYPE = 'post'\n",
    "PADD_TYPE = 'post'\n",
    "UNK_TOK = '<UNK>'\n",
    "TRAINING_SIZE = 1000\n",
    "\n",
    "print('\\n Completed\\n')"
   ]
  },
  {
   "cell_type": "code",
   "execution_count": null,
   "metadata": {},
   "outputs": [],
   "source": [
    "dataset = pd.read_csv('Spam dataset.csv')\n",
    "print('dataset: ')\n",
    "\n",
    "print(dataset.head(), '\\n')\n",
    "print('Null values in the dataset: ')\n",
    "\n",
    "print(dataset.isnull(), '\\n')\n",
    "print('Sum of Null values in each column: ')\n",
    "\n",
    "print(dataset.isnull().sum(), '\\n')\n",
    "\n",
    "dataset[\"Category\"] = [1 if each == \"spam\" else 0 for each in dataset[\"Category\"]]\n",
    "\n",
    "print('dataset: ')\n",
    "print(dataset.head(), '\\n')"
   ]
  },
  {
   "cell_type": "code",
   "execution_count": null,
   "metadata": {},
   "outputs": [],
   "source": [
    "X = dataset.iloc[:, 1].values\n",
    "X = X.reshape(-1, 1)\n",
    "print('Type of X:', type(X))\n",
    "print('shape of X: ', X.shape)\n",
    "#print(X)\n",
    "\n",
    "Y = dataset.iloc[:, 0].values\n",
    "y = Y.reshape(-1, 1)\n",
    "print('Type of Y; ', type(Y))\n",
    "print('shape of Y: ', y.shape)\n",
    "#print(y)\n",
    "X = X.tolist()\n",
    "y = y.tolist()\n",
    "print('Length of X: ', len(X), '\\n')"
   ]
  },
  {
   "cell_type": "code",
   "execution_count": null,
   "metadata": {},
   "outputs": [],
   "source": [
    "#---Train test Split---#\n",
    "Training_Sentences = X[TRAINING_SIZE:]\n",
    "Training_Labels = y[TRAINING_SIZE:]\n",
    "print('Length of training samples ', len(Training_Sentences), '\\n')\n",
    "\n",
    "Testing_Sentences = X[0: TRAINING_SIZE]\n",
    "Testing_Lables = y[0:TRAINING_SIZE]\n",
    "print('Length of testing samples', len(Testing_Sentences), '\\n')"
   ]
  },
  {
   "cell_type": "code",
   "execution_count": null,
   "metadata": {},
   "outputs": [],
   "source": [
    "#---TOKENIZING THE WORDS---#\n",
    "tokenizer = Tokenizer(num_words=VOCAB_SIZE, oov_token=UNK_TOK)\n",
    "tokenizer.fit_on_texts(Training_Sentences)\n",
    "\n",
    "word_index = tokenizer.word_index\n",
    "\n",
    "#print(word_index, '\\n')\n",
    "\n",
    "Training_Sequences = tokenizer.texts_to_sequences(Training_Sentences)\n",
    "Training_pad = pad_sequences(Training_Sequences, maxlen=MAX_LEN, padding=PADD_TYPE, truncating=TRUNC_TYPE)\n",
    "\n",
    "Testing_Sequences = tokenizer.texts_to_sequences(Testing_Sentences)\n",
    "Testing_pad = pad_sequences(Testing_Sequences, maxlen=MAX_LEN, padding=PADD_TYPE, truncating=TRUNC_TYPE)"
   ]
  },
  {
   "cell_type": "code",
   "execution_count": null,
   "metadata": {},
   "outputs": [],
   "source": [
    "#----BUILDING THE MODEL----#\n",
    "\n",
    "model = tf.keras.Sequential()\n",
    "print('-----MODEL INSTANCE Completed-----')\n",
    "model.add(tf.keras.layers.Embedding(VOCAB_SIZE, EMBEDDING_DIM, input_length=MAX_LEN))\n",
    "model.add(tf.keras.layers.Bidirectional(tf.keras.layers.LSTM(64, return_sequences=True)))\n",
    "model.add(tf.keras.layers.Bidirectional(tf.keras.layers.LSTM(64)))\n",
    "model.add(tf.keras.layers.Flatten())\n",
    "model.add(tf.keras.layers.Dense(24, activation='relu'))\n",
    "model.add(tf.keras.layers.Dense(1, activation='sigmoid'))\n",
    "print(model.summary())"
   ]
  },
  {
   "cell_type": "code",
   "execution_count": null,
   "metadata": {},
   "outputs": [],
   "source": [
    "#--------Converting this into numpy array--------#\n",
    "Training_Sequences_padded = np.asarray(Training_pad)\n",
    "Testing_Sequences_padded = np.asarray(Testing_pad)\n",
    "Training_Labels = np.asarray(Training_Labels)\n",
    "Testing_Lables = np.asarray(Testing_Lables)"
   ]
  },
  {
   "cell_type": "code",
   "execution_count": null,
   "metadata": {},
   "outputs": [],
   "source": [
    "#---------Training the MODEL--------#\n",
    "model.compile(optimizer='adam', loss='binary_crossentropy', metrics=['accuracy'])\n",
    "history = model.fit(Training_Sequences_padded, Training_Labels, validation_data=(Testing_Sequences_padded, Testing_Lables), epochs=EPOCHS)"
   ]
  },
  {
   "cell_type": "code",
   "execution_count": null,
   "metadata": {},
   "outputs": [],
   "source": [
    "def Plot(history, string):\n",
    "    plt.plot(history.history[string])\n",
    "    plt.plot(history.history['val_' + string])\n",
    "    plt.xlabel(\"EPOCHS\")\n",
    "    plt.ylabel(string)\n",
    "    plt.legend([string, 'val_' + string ])\n",
    "    plt.savefig(string + '.png')\n",
    "    plt.show()\n",
    "    \n",
    "    \n",
    "Plot(history, \"accuracy\")\n",
    "Plot(history, \"loss\")\n",
    "\n",
    "\n",
    "print(\"------Completed------\")\n"
   ]
  },
  {
   "cell_type": "code",
   "execution_count": 25,
   "metadata": {},
   "outputs": [
    {
     "name": "stdout",
     "output_type": "stream",
     "text": [
      "How are you!!!!!\n",
      "Done\n",
      "(1, 32)\n",
      "1/1 [==============================] - 0s 84ms/step\n",
      "output class:  [[0.99995685]]\n"
     ]
    }
   ],
   "source": [
    "text = 'Get 100% off and Rs. 1000000 cashback for this random thing that you won in a lottery!!!!!'\n",
    "print(text)\n",
    "Test = tokenizer.texts_to_sequences([text])[0]\n",
    "Test_padded = pad_sequences([Test], maxlen=MAX_LEN, padding=PADD_TYPE, truncating=TRUNC_TYPE)\n",
    "Test_padded = np.asarray(Test_padded)\n",
    "print('Done')\n",
    "print(Test_padded.shape)\n",
    "\n",
    "ypred = model.predict(Test_padded)\n",
    "\n",
    "print('output class: ', ypred)"
   ]
  },
  {
   "cell_type": "code",
   "execution_count": 26,
   "metadata": {},
   "outputs": [
    {
     "name": "stdout",
     "output_type": "stream",
     "text": [
      "32/32 [==============================] - 1s 25ms/step\n",
      "(1000, 1)\n"
     ]
    }
   ],
   "source": [
    "y_pred = model.predict(Testing_Sequences_padded)\n",
    "print(y_pred.shape)"
   ]
  },
  {
   "cell_type": "code",
   "execution_count": 23,
   "metadata": {},
   "outputs": [
    {
     "name": "stdout",
     "output_type": "stream",
     "text": [
      "(1000, 1)\n"
     ]
    }
   ],
   "source": [
    "print(Testing_Lables.shape)"
   ]
  },
  {
   "cell_type": "code",
   "execution_count": 27,
   "metadata": {},
   "outputs": [
    {
     "name": "stdout",
     "output_type": "stream",
     "text": [
      "882\n"
     ]
    }
   ],
   "source": [
    "from sklearn.metrics import accuracy_score\n",
    "# print(accuracy_score(Testing_Lables, y_pred))\n",
    "''''Classification metrics can't handle a mix of binary and continuous targets''' # so replace the upper line by the lower one\n",
    "print(accuracy_score(Testing_Lables, y_pred.round(), normalize = False))"
   ]
  },
  {
   "cell_type": "code",
   "execution_count": null,
   "metadata": {},
   "outputs": [],
   "source": []
  }
 ],
 "metadata": {
  "kernelspec": {
   "display_name": "Python 3.11.1 64-bit",
   "language": "python",
   "name": "python3"
  },
  "language_info": {
   "codemirror_mode": {
    "name": "ipython",
    "version": 3
   },
   "file_extension": ".py",
   "mimetype": "text/x-python",
   "name": "python",
   "nbconvert_exporter": "python",
   "pygments_lexer": "ipython3",
   "version": "3.11.1"
  },
  "vscode": {
   "interpreter": {
    "hash": "e7370f93d1d0cde622a1f8e1c04877d8463912d04d973331ad4851f04de6915a"
   }
  }
 },
 "nbformat": 4,
 "nbformat_minor": 4
}
